{
 "cells": [
  {
   "cell_type": "code",
   "execution_count": 1,
   "id": "234fd707",
   "metadata": {},
   "outputs": [],
   "source": [
    "import os\n",
    "\n",
    "from src.envs.utils import (\n",
    "                            RandomErdosRenyiGraphGenerator,\n",
    "                            RandomBarabasiAlbertGraphGenerator,\n",
    "                            RandomCompleteGraphGenerator,\n",
    "                            EdgeType,\n",
    "                            )\n",
    "from scipy.sparse import csr_matrix,save_npz,load_npz\n",
    "from experiments.utils import load_graph_set, mk_dir"
   ]
  },
  {
   "cell_type": "code",
   "execution_count": 2,
   "id": "316c530c",
   "metadata": {},
   "outputs": [
    {
     "name": "stdout",
     "output_type": "stream",
     "text": [
      "dir already exists:  data/training/ER_20\n",
      "dir already exists:  data/training/ER_40\n",
      "dir already exists:  data/training/ER_60\n",
      "dir already exists:  data/training/ER_100\n",
      "dir already exists:  data/training/ER_200\n",
      "dir already exists:  data/training/BA_20\n",
      "dir already exists:  data/training/BA_40\n",
      "dir already exists:  data/training/BA_60\n",
      "dir already exists:  data/training/BA_100\n",
      "dir already exists:  data/training/BA_200\n"
     ]
    }
   ],
   "source": [
    "number_of_vertices = [20,40,60,100,200]\n",
    "distributions = ['ER','BA']\n",
    "number_of_instances=4000\n",
    "\n",
    "for distribution in distributions:\n",
    "    for n in number_of_vertices:\n",
    "        folder=f'data/training/{distribution}_{n}'\n",
    "        mk_dir(folder)\n",
    "        \n",
    "        if distribution=='ER':\n",
    "\n",
    "            train_graph_generator = RandomErdosRenyiGraphGenerator(n_spins=n,\n",
    "                                                                    p_connection=0.15,\n",
    "                                                                    edge_type=EdgeType.DISCRETE)\n",
    "        else:\n",
    "            train_graph_generator = RandomBarabasiAlbertGraphGenerator(n_spins= n,\n",
    "                                                                       m_insertion_edges=4,\n",
    "                                                                       edge_type=EdgeType.DISCRETE)\n",
    "\n",
    "        for i in range(number_of_instances):\n",
    "            graph=train_graph_generator.get()\n",
    "            save_file_name = f'{distribution}_{n}vertices_graph_{i}'\n",
    "            save_file_path=os.path.join(folder,save_file_name)\n",
    "            sparse_matrix = csr_matrix(graph)\n",
    "            \n",
    "            save_npz(save_file_path, sparse_matrix)\n",
    "        \n"
   ]
  },
  {
   "cell_type": "code",
   "execution_count": 3,
   "id": "59e81493",
   "metadata": {},
   "outputs": [
    {
     "name": "stdout",
     "output_type": "stream",
     "text": [
      "dir already exists:  data/testing/ER_20\n",
      "dir already exists:  data/validation/ER_20\n",
      "100 target graphs loaded from _graphs/validation/ER_20spin_p15_100graphs.pkl\n",
      "50 target graphs loaded from _graphs/testing/ER_20spin_p15_50graphs.pkl\n",
      "dir already exists:  data/testing/ER_40\n",
      "dir already exists:  data/validation/ER_40\n",
      "100 target graphs loaded from _graphs/validation/ER_40spin_p15_100graphs.pkl\n",
      "50 target graphs loaded from _graphs/testing/ER_40spin_p15_50graphs.pkl\n",
      "dir already exists:  data/testing/ER_60\n",
      "dir already exists:  data/validation/ER_60\n",
      "100 target graphs loaded from _graphs/validation/ER_60spin_p15_100graphs.pkl\n",
      "50 target graphs loaded from _graphs/testing/ER_60spin_p15_50graphs.pkl\n",
      "dir already exists:  data/testing/ER_100\n",
      "dir already exists:  data/validation/ER_100\n",
      "100 target graphs loaded from _graphs/validation/ER_100spin_p15_100graphs.pkl\n",
      "50 target graphs loaded from _graphs/testing/ER_100spin_p15_50graphs.pkl\n",
      "dir already exists:  data/testing/ER_200\n",
      "dir already exists:  data/validation/ER_200\n",
      "100 target graphs loaded from _graphs/validation/ER_200spin_p15_100graphs.pkl\n",
      "50 target graphs loaded from _graphs/testing/ER_200spin_p15_50graphs.pkl\n",
      "dir already exists:  data/testing/BA_20\n",
      "dir already exists:  data/validation/BA_20\n",
      "100 target graphs loaded from _graphs/validation/BA_20spin_m4_100graphs.pkl\n",
      "50 target graphs loaded from _graphs/testing/BA_20spin_m4_50graphs.pkl\n",
      "dir already exists:  data/testing/BA_40\n",
      "dir already exists:  data/validation/BA_40\n",
      "100 target graphs loaded from _graphs/validation/BA_40spin_m4_100graphs.pkl\n",
      "50 target graphs loaded from _graphs/testing/BA_40spin_m4_50graphs.pkl\n",
      "dir already exists:  data/testing/BA_60\n",
      "dir already exists:  data/validation/BA_60\n",
      "100 target graphs loaded from _graphs/validation/BA_60spin_m4_100graphs.pkl\n",
      "50 target graphs loaded from _graphs/testing/BA_60spin_m4_50graphs.pkl\n",
      "dir already exists:  data/testing/BA_100\n",
      "dir already exists:  data/validation/BA_100\n",
      "100 target graphs loaded from _graphs/validation/BA_100spin_m4_100graphs.pkl\n",
      "50 target graphs loaded from _graphs/testing/BA_100spin_m4_50graphs.pkl\n",
      "dir already exists:  data/testing/BA_200\n",
      "dir already exists:  data/validation/BA_200\n",
      "100 target graphs loaded from _graphs/validation/BA_200spin_m4_100graphs.pkl\n",
      "50 target graphs loaded from _graphs/testing/BA_200spin_m4_50graphs.pkl\n"
     ]
    }
   ],
   "source": [
    "number_of_vertices = [20,40,60,100,200]\n",
    "distributions = ['ER','BA']\n",
    "for distribution in distributions:\n",
    "    for n in number_of_vertices:\n",
    "        test_folder=f'data/testing/{distribution}_{n}'\n",
    "        val_folder=f'data/validation/{distribution}_{n}'\n",
    "        mk_dir(test_folder)\n",
    "        mk_dir(val_folder)\n",
    "        \n",
    "        if distribution=='ER':\n",
    "            val_graph_save_loc=f'_graphs/testing/ER_{n}spin_p15_50graphs.pkl'\n",
    "            test_graph_save_loc=f'_graphs/validation/ER_{n}spin_p15_100graphs.pkl'\n",
    "        elif distribution=='BA':\n",
    "            val_graph_save_loc=f\"_graphs/testing/BA_{n}spin_m4_50graphs.pkl\"\n",
    "            test_graph_save_loc=f\"_graphs/validation/BA_{n}spin_m4_100graphs.pkl\"\n",
    "            \n",
    "        graphs_test = load_graph_set(test_graph_save_loc)\n",
    "        graphs_val = load_graph_set(val_graph_save_loc)\n",
    "        \n",
    "        for i,graph in enumerate(graphs_test):\n",
    "            save_file_name = f'{distribution}_{n}vertices_graph_{i}'\n",
    "            save_file_path=os.path.join(test_folder,save_file_name)\n",
    "            sparse_matrix = csr_matrix(graph)\n",
    "            save_npz(save_file_path, sparse_matrix)\n",
    "            \n",
    "        for i,graph in enumerate(graphs_val):\n",
    "            save_file_name = f'{distribution}_{n}vertices_graph_{i}'\n",
    "            save_file_path=os.path.join(val_folder,save_file_name)\n",
    "            sparse_matrix = csr_matrix(graph)\n",
    "            save_npz(save_file_path, sparse_matrix)\n",
    "            "
   ]
  },
  {
   "cell_type": "code",
   "execution_count": null,
   "id": "22c001a4",
   "metadata": {},
   "outputs": [],
   "source": []
  }
 ],
 "metadata": {
  "kernelspec": {
   "display_name": "Python 3 (ipykernel)",
   "language": "python",
   "name": "python3"
  },
  "language_info": {
   "codemirror_mode": {
    "name": "ipython",
    "version": 3
   },
   "file_extension": ".py",
   "mimetype": "text/x-python",
   "name": "python",
   "nbconvert_exporter": "python",
   "pygments_lexer": "ipython3",
   "version": "3.10.12"
  }
 },
 "nbformat": 4,
 "nbformat_minor": 5
}
