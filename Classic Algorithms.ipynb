{
 "cells": [
  {
   "cell_type": "code",
   "execution_count": 1,
   "id": "72217b15",
   "metadata": {},
   "outputs": [],
   "source": [
    "from  numba import njit\n",
    "import numpy as np\n",
    "# import pickle\n",
    "from src.envs.utils import GraphDataset"
   ]
  },
  {
   "cell_type": "code",
   "execution_count": 2,
   "id": "a7d03d13",
   "metadata": {},
   "outputs": [],
   "source": [
    "@njit\n",
    "def flatten_graph(graph):\n",
    "    \"\"\"\n",
    "    Flatten a graph into matrices for adjacency, weights, start indices, and end indices.\n",
    "\n",
    "    Parameters:\n",
    "    - graph (adjacency matrix): The input graph to be flattened.\n",
    "\n",
    "    Returns:\n",
    "    - numpy.ndarray: Flattened adjacency matrix.\n",
    "    - numpy.ndarray: Flattened weight matrix.\n",
    "    - numpy.ndarray: Start indices for nodes in the flattened matrices.\n",
    "    - numpy.ndarray: End indices for nodes in the flattened matrices.\n",
    "    \"\"\"\n",
    "    flattened_adjacency = []\n",
    "    flattened_weights = []\n",
    "    num_nodes = graph.shape[0]\n",
    "    \n",
    "    node_start_indices = np.zeros(num_nodes,dtype=np.int64)\n",
    "    node_end_indices = np.zeros(num_nodes,dtype=np.int64)\n",
    "    \n",
    "    for i in range(num_nodes):\n",
    "        node_start_indices[i] = len(flattened_adjacency)\n",
    "        for j in range(num_nodes):\n",
    "            if graph[i, j] != 0:\n",
    "                flattened_adjacency.append(j)\n",
    "                flattened_weights.append(graph[i, j])\n",
    "                \n",
    "        node_end_indices[i] = len(flattened_adjacency)\n",
    "\n",
    "    return (\n",
    "        np.array(flattened_adjacency),\n",
    "        np.array(flattened_weights),\n",
    "        node_start_indices,\n",
    "        node_end_indices\n",
    "    )\n",
    "\n",
    "\n",
    "\n"
   ]
  },
  {
   "cell_type": "code",
   "execution_count": 3,
   "id": "bc7a956a",
   "metadata": {},
   "outputs": [],
   "source": [
    "@njit\n",
    "def standard_greedy(graph):\n",
    "    adj_matrix, weight_matrix, start_list, end_list=graph\n",
    "    \n",
    "    n=len(start_list)\n",
    "    delta_local_cuts=np.zeros(n)\n",
    "    spins=np.ones(n)\n",
    "    \n",
    "    \n",
    "    curr_score=0\n",
    "    for i in range(n):\n",
    "        for j,weight in zip(adj_matrix[start_list[i]:end_list[i]],\n",
    "                  weight_matrix[start_list[i]:end_list[i]]):\n",
    "                \n",
    "            delta_local_cuts[i]+=weight*(2*spins[i]-1)*(2*spins[j]-1)\n",
    "            curr_score+=weight*(spins[i]+spins[j]-2*spins[i]*spins[j])\n",
    "\n",
    "    curr_score/=2    \n",
    "    # best_score=curr_score\n",
    "    \n",
    "    flag=True\n",
    "    \n",
    "    while flag:\n",
    "        arg_gain=np.argsort(-delta_local_cuts)\n",
    "        flag=False\n",
    "        for v in arg_gain:\n",
    "            if spins[v]:\n",
    "                if delta_local_cuts[v]<0:\n",
    "                    flag=False\n",
    "                    break\n",
    "                    \n",
    "                curr_score+=delta_local_cuts[v]\n",
    "                delta_local_cuts[v]=-delta_local_cuts[v]\n",
    "                \n",
    "                for u,weight in zip(adj_matrix[start_list[v]:end_list[v]],\n",
    "                                     weight_matrix[start_list[v]:end_list[v]]):\n",
    "\n",
    "                    delta_local_cuts[u]+=weight*(2*spins[u]-1)*(2-4*spins[v])\n",
    "\n",
    "                spins[v] = 1-spins[v]\n",
    "                flag=True\n",
    "                break\n",
    "                  \n",
    "    return curr_score,spins"
   ]
  },
  {
   "cell_type": "code",
   "execution_count": 4,
   "id": "04d38d11",
   "metadata": {},
   "outputs": [],
   "source": [
    "@njit\n",
    "def mca(graph,spins):\n",
    "    adj_matrix, weight_matrix, start_list, end_list=graph\n",
    "    \n",
    "    n=len(start_list)\n",
    "    delta_local_cuts=np.zeros(n)\n",
    "    \n",
    "    \n",
    "    \n",
    "    curr_score=0\n",
    "    for i in range(n):\n",
    "        for j,weight in zip(adj_matrix[start_list[i]:end_list[i]],weight_matrix[start_list[i]:end_list[i]]):\n",
    "                \n",
    "            delta_local_cuts[i]+=weight*(2*spins[i]-1)*(2*spins[j]-1)\n",
    "            curr_score+=weight*(spins[i]+spins[j]-2*spins[i]*spins[j])\n",
    "\n",
    "    curr_score/=2   \n",
    "    best_score=curr_score\n",
    "    \n",
    "    flag=True\n",
    "    \n",
    "    while flag:\n",
    "        arg_gain=np.argsort(-delta_local_cuts)\n",
    "        flag=False\n",
    "        for v in arg_gain:\n",
    "            \n",
    "            if delta_local_cuts[v]<=0:\n",
    "                flag=False\n",
    "                break\n",
    "                    \n",
    "            curr_score+=delta_local_cuts[v]\n",
    "            delta_local_cuts[v]=-delta_local_cuts[v]\n",
    "\n",
    "            for u,weight in zip(adj_matrix[start_list[v]:end_list[v]],\n",
    "                                 weight_matrix[start_list[v]:end_list[v]]):\n",
    "\n",
    "                delta_local_cuts[u]+=weight*(2*spins[u]-1)*(2-4*spins[v])\n",
    "\n",
    "            spins[v] =1-spins[v]\n",
    "            flag=True\n",
    "            break\n",
    "                  \n",
    "    return curr_score,spins"
   ]
  },
  {
   "cell_type": "code",
   "execution_count": 5,
   "id": "6f82f728",
   "metadata": {},
   "outputs": [],
   "source": [
    "@njit\n",
    "def tabu(graph,spins,tabu_tenure,max_steps):\n",
    "    adj_matrix, weight_matrix, start_list, end_list=graph\n",
    "    \n",
    "    n=len(start_list)\n",
    "    delta_local_cuts=np.zeros(n)\n",
    "    \n",
    "    tabu_list=np.ones(n)*-10000\n",
    "    curr_score=0\n",
    "    for i in range(n):\n",
    "        for j,weight in zip(adj_matrix[start_list[i]:end_list[i]],\n",
    "                  weight_matrix[start_list[i]:end_list[i]]):\n",
    "                \n",
    "            delta_local_cuts[i]+=weight*(2*spins[i]-1)*(2*spins[j]-1)\n",
    "            curr_score+=weight*(spins[i]+spins[j]-2*spins[i]*spins[j])\n",
    "            \n",
    "#     print(delta_local_cuts)\n",
    "\n",
    "    curr_score/=2    \n",
    "    best_score=curr_score\n",
    "\n",
    "    for t in range(max_steps):\n",
    "        arg_gain=np.argsort(-delta_local_cuts)\n",
    "        for v in arg_gain:\n",
    "            if (t-tabu_list[v]> tabu_tenure) or (best_score < curr_score + delta_local_cuts[v]):\n",
    "\n",
    "                tabu_list[v] = t\n",
    "\n",
    "                curr_score+=delta_local_cuts[v]\n",
    "                delta_local_cuts[v]=-delta_local_cuts[v]\n",
    "                \n",
    "                for u,weight in zip(adj_matrix[start_list[v]:end_list[v]],\n",
    "                                     weight_matrix[start_list[v]:end_list[v]]):\n",
    "\n",
    "                    delta_local_cuts[u]+=weight*(2*spins[u]-1)*(2-4*spins[v])\n",
    "\n",
    "                spins[v] = 1-spins[v]\n",
    "\n",
    "                break\n",
    "\n",
    "                \n",
    "        best_score=max(curr_score,best_score)\n",
    "    return best_score,None\n",
    "    \n",
    "    "
   ]
  },
  {
   "cell_type": "code",
   "execution_count": 19,
   "id": "cf435166",
   "metadata": {},
   "outputs": [],
   "source": [
    "# graph_save_loc=f'_graphs/testing/ER_{\"15-20\"}spin_p{0.15}_50graphs.pkl'\n",
    "# graphs=load_graph_set(graph_save_loc)"
   ]
  },
  {
   "cell_type": "code",
   "execution_count": 6,
   "id": "75438143",
   "metadata": {},
   "outputs": [],
   "source": [
    "# test_dataset=GraphDataset('../data/testing/wishart_100vertices_m50',ordered=True)\n",
    "# test_dataset=GraphDataset('../data/validation/Uniform Random-3-SAT',ordered=True)\n",
    "test_dataset=GraphDataset('../data/validation/dense_MC_100_200vertices_unweighted',ordered=True)\n",
    "\n"
   ]
  },
  {
   "cell_type": "code",
   "execution_count": 7,
   "id": "fe5dea84",
   "metadata": {},
   "outputs": [],
   "source": [
    "# test_dataset=GraphDataset('data/testing/Uniform Random-3-SAT',ordered=True)\n",
    "tabu_cuts=[]\n",
    "for i in range(len(test_dataset)):\n",
    "# for i in range(100):\n",
    "#     flatten_graph(graph)\n",
    "    graph=test_dataset.get()\n",
    "    g=flatten_graph(graph)\n",
    "    spins= np.random.randint(2, size=graph.shape[0])\n",
    "#     print(spins)\n",
    "    cut,spins=tabu(g,spins,tabu_tenure=20,max_steps=graph.shape[0]*2)\n",
    "    \n",
    "    tabu_cuts.append(cut)\n",
    "    \n",
    "# print('Mean Tabu Cut:',sum(tabu_cuts)/len(tabu_cuts))\n",
    "tabu_cuts=np.array(tabu_cuts)"
   ]
  },
  {
   "cell_type": "code",
   "execution_count": 8,
   "id": "f8b35c19",
   "metadata": {},
   "outputs": [],
   "source": [
    "# test_dataset=GraphDataset('data/testing/Uniform Random-3-SAT',ordered=True)\n",
    "mca_cuts=[]\n",
    "sg_cuts=[]\n",
    "for i in range(len(test_dataset)):\n",
    "# for i in range(100):\n",
    "#     flatten_graph(graph)\n",
    "    graph=test_dataset.get()\n",
    "    g=flatten_graph(graph)\n",
    "    spins= np.random.randint(2, size=graph.shape[0])\n",
    "#     print(spins)\n",
    "    cut,spins=mca(g,spins)\n",
    "    sg_cut,sg_spins=standard_greedy(g)\n",
    "    \n",
    "    mca_cuts.append(cut)\n",
    "    sg_cuts.append(sg_cut)\n",
    "\n",
    "sg_cuts=np.array(sg_cuts)\n",
    "mca_cuts=np.array(mca_cuts)"
   ]
  },
  {
   "cell_type": "code",
   "execution_count": 9,
   "id": "d59516c4",
   "metadata": {},
   "outputs": [
    {
     "name": "stdout",
     "output_type": "stream",
     "text": [
      "Tabu: 1.0142646050644357\n",
      "Max Cut Approx: 1.0009382285892885\n"
     ]
    }
   ],
   "source": [
    "print('Tabu:',(tabu_cuts/sg_cuts).mean())\n",
    "print('Max Cut Approx:',(mca_cuts/sg_cuts).mean())\n"
   ]
  },
  {
   "cell_type": "code",
   "execution_count": 10,
   "id": "ffb6394f",
   "metadata": {},
   "outputs": [
    {
     "data": {
      "text/plain": [
       "array([1.03253796, 1.02589928, 1.02325581, 1.00984529, 1.03078024,\n",
       "       1.01203966, 1.01962209, 1.00209937, 1.00843289, 1.00489853,\n",
       "       1.02794118, 1.0184136 , 1.00777385, 1.00070274, 1.01424501,\n",
       "       1.01453488, 1.02074392, 1.02098408, 1.01506456, 1.01789549,\n",
       "       1.01548205, 1.00694927, 1.01987225, 1.00292398, 1.00355114,\n",
       "       1.0128041 , 1.00544959, 1.01239293, 1.01428833, 1.02175544,\n",
       "       1.00127947, 1.00935094, 1.00765306, 1.02097642, 1.01022271,\n",
       "       1.00657895, 1.00772485, 1.01053994, 1.01247478, 1.00902394,\n",
       "       1.0088659 , 1.01438053, 1.00906618, 1.01532008, 1.01480933,\n",
       "       1.01357051, 1.01285819, 1.0179099 , 1.00675306, 1.01551247])"
      ]
     },
     "execution_count": 10,
     "metadata": {},
     "output_type": "execute_result"
    }
   ],
   "source": [
    "tabu_cuts/mca_cuts"
   ]
  },
  {
   "cell_type": "code",
   "execution_count": 11,
   "id": "e609125a",
   "metadata": {},
   "outputs": [
    {
     "data": {
      "text/plain": [
       "array([1428., 1426., 1408., 1436., 1440., 1429., 1403., 1432., 1435.,\n",
       "       1436., 1398., 1438., 1426., 1424., 1424., 1396., 1427., 1411.,\n",
       "       1415., 1422., 1443., 1449., 1437., 1372., 1413., 5537., 5535.,\n",
       "       5555., 5537., 5448., 5478., 5505., 5530., 5500., 5534., 5508.,\n",
       "       5479., 5465., 5519., 5479., 5462., 5502., 5565., 5567., 5482.,\n",
       "       5527., 5514., 5513., 5516., 5499.])"
      ]
     },
     "execution_count": 11,
     "metadata": {},
     "output_type": "execute_result"
    }
   ],
   "source": [
    "tabu_cuts"
   ]
  },
  {
   "cell_type": "code",
   "execution_count": 12,
   "id": "67ec2fe2",
   "metadata": {},
   "outputs": [
    {
     "data": {
      "text/plain": [
       "array([1383., 1390., 1376., 1422., 1397., 1412., 1376., 1429., 1423.,\n",
       "       1429., 1360., 1412., 1415., 1423., 1404., 1376., 1398., 1382.,\n",
       "       1394., 1397., 1421., 1439., 1409., 1368., 1408., 5467., 5505.,\n",
       "       5487., 5459., 5332., 5471., 5454., 5488., 5387., 5478., 5472.,\n",
       "       5437., 5408., 5451., 5430., 5414., 5424., 5515., 5483., 5402.,\n",
       "       5453., 5444., 5416., 5479., 5415.])"
      ]
     },
     "execution_count": 12,
     "metadata": {},
     "output_type": "execute_result"
    }
   ],
   "source": [
    "mca_cuts"
   ]
  },
  {
   "cell_type": "code",
   "execution_count": null,
   "id": "06555993",
   "metadata": {},
   "outputs": [],
   "source": []
  }
 ],
 "metadata": {
  "kernelspec": {
   "display_name": "Python 3 (ipykernel)",
   "language": "python",
   "name": "python3"
  },
  "language_info": {
   "codemirror_mode": {
    "name": "ipython",
    "version": 3
   },
   "file_extension": ".py",
   "mimetype": "text/x-python",
   "name": "python",
   "nbconvert_exporter": "python",
   "pygments_lexer": "ipython3",
   "version": "3.10.12"
  }
 },
 "nbformat": 4,
 "nbformat_minor": 5
}
