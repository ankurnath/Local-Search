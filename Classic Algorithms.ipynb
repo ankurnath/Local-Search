{
 "cells": [
  {
   "cell_type": "code",
   "execution_count": 1,
   "id": "72217b15",
   "metadata": {},
   "outputs": [],
   "source": [
    "from  numba import njit\n",
    "import numpy as np\n",
    "import pickle\n",
    "from src.envs.utils import GraphDataset"
   ]
  },
  {
   "cell_type": "code",
   "execution_count": 2,
   "id": "a7d03d13",
   "metadata": {},
   "outputs": [],
   "source": [
    "@njit\n",
    "def flatten_graph(graph):\n",
    "    \"\"\"\n",
    "    Flatten a graph into matrices for adjacency, weights, start indices, and end indices.\n",
    "\n",
    "    Parameters:\n",
    "    - graph (adjacency matrix): The input graph to be flattened.\n",
    "\n",
    "    Returns:\n",
    "    - numpy.ndarray: Flattened adjacency matrix.\n",
    "    - numpy.ndarray: Flattened weight matrix.\n",
    "    - numpy.ndarray: Start indices for nodes in the flattened matrices.\n",
    "    - numpy.ndarray: End indices for nodes in the flattened matrices.\n",
    "    \"\"\"\n",
    "    flattened_adjacency = []\n",
    "    flattened_weights = []\n",
    "    num_nodes = graph.shape[0]\n",
    "    \n",
    "    node_start_indices = np.zeros(num_nodes,dtype=np.int64)\n",
    "    node_end_indices = np.zeros(num_nodes,dtype=np.int64)\n",
    "    \n",
    "    for i in range(num_nodes):\n",
    "        node_start_indices[i] = len(flattened_adjacency)\n",
    "        for j in range(num_nodes):\n",
    "            if graph[i, j] != 0:\n",
    "                flattened_adjacency.append(j)\n",
    "                flattened_weights.append(graph[i, j])\n",
    "                \n",
    "        node_end_indices[i] = len(flattened_adjacency)\n",
    "\n",
    "    return (\n",
    "        np.array(flattened_adjacency),\n",
    "        np.array(flattened_weights),\n",
    "        node_start_indices,\n",
    "        node_end_indices\n",
    "    )\n",
    "\n",
    "\n",
    "\n"
   ]
  },
  {
   "cell_type": "code",
   "execution_count": 3,
   "id": "bc7a956a",
   "metadata": {},
   "outputs": [],
   "source": [
    "@njit\n",
    "def standard_greedy(graph):\n",
    "    adj_matrix, weight_matrix, start_list, end_list=graph\n",
    "    \n",
    "    n=len(start_list)\n",
    "    delta_local_cuts=np.zeros(n)\n",
    "    spins=np.ones(n)\n",
    "    \n",
    "    \n",
    "    curr_score=0\n",
    "    for i in range(n):\n",
    "        for j,weight in zip(adj_matrix[start_list[i]:end_list[i]],\n",
    "                  weight_matrix[start_list[i]:end_list[i]]):\n",
    "                \n",
    "            delta_local_cuts[i]+=weight*(2*spins[i]-1)*(2*spins[j]-1)\n",
    "            curr_score+=weight*(spins[i]+spins[j]-2*spins[i]*spins[j])\n",
    "\n",
    "    curr_score/=2    \n",
    "    best_score=curr_score\n",
    "    \n",
    "    flag=True\n",
    "    \n",
    "    while flag:\n",
    "        arg_gain=np.argsort(-delta_local_cuts)\n",
    "        flag=False\n",
    "        for v in arg_gain:\n",
    "            if spins[v]:\n",
    "                if delta_local_cuts[v]<0:\n",
    "                    flag=False\n",
    "                    break\n",
    "                    \n",
    "                curr_score+=delta_local_cuts[v]\n",
    "                delta_local_cuts[v]=-delta_local_cuts[v]\n",
    "                \n",
    "                for u,weight in zip(adj_matrix[start_list[v]:end_list[v]],\n",
    "                                     weight_matrix[start_list[v]:end_list[v]]):\n",
    "\n",
    "                    delta_local_cuts[u]+=weight*(2*spins[u]-1)*(2-4*spins[v])\n",
    "\n",
    "                spins[v] = 1-spins[v]\n",
    "                flag=True\n",
    "                break\n",
    "                  \n",
    "    return curr_score,spins"
   ]
  },
  {
   "cell_type": "code",
   "execution_count": 4,
   "id": "04d38d11",
   "metadata": {},
   "outputs": [],
   "source": [
    "@njit\n",
    "def mca(graph,spins):\n",
    "    adj_matrix, weight_matrix, start_list, end_list=graph\n",
    "    \n",
    "    n=len(start_list)\n",
    "    delta_local_cuts=np.zeros(n)\n",
    "    \n",
    "    \n",
    "    \n",
    "    curr_score=0\n",
    "    for i in range(n):\n",
    "        for j,weight in zip(adj_matrix[start_list[i]:end_list[i]],weight_matrix[start_list[i]:end_list[i]]):\n",
    "                \n",
    "            delta_local_cuts[i]+=weight*(2*spins[i]-1)*(2*spins[j]-1)\n",
    "            curr_score+=weight*(spins[i]+spins[j]-2*spins[i]*spins[j])\n",
    "\n",
    "    curr_score/=2   \n",
    "    best_score=curr_score\n",
    "    \n",
    "    flag=True\n",
    "    \n",
    "    while flag:\n",
    "        arg_gain=np.argsort(-delta_local_cuts)\n",
    "        flag=False\n",
    "        for v in arg_gain:\n",
    "            \n",
    "            if delta_local_cuts[v]<=0:\n",
    "                flag=False\n",
    "                break\n",
    "                    \n",
    "            curr_score+=delta_local_cuts[v]\n",
    "            delta_local_cuts[v]=-delta_local_cuts[v]\n",
    "\n",
    "            for u,weight in zip(adj_matrix[start_list[v]:end_list[v]],\n",
    "                                 weight_matrix[start_list[v]:end_list[v]]):\n",
    "\n",
    "                delta_local_cuts[u]+=weight*(2*spins[u]-1)*(2-4*spins[v])\n",
    "\n",
    "            spins[v] =1-spins[v]\n",
    "            flag=True\n",
    "            break\n",
    "                  \n",
    "    return curr_score,spins"
   ]
  },
  {
   "cell_type": "code",
   "execution_count": 5,
   "id": "6f82f728",
   "metadata": {},
   "outputs": [],
   "source": [
    "@njit\n",
    "def tabu(graph,spins,tabu_tenure,max_steps):\n",
    "    adj_matrix, weight_matrix, start_list, end_list=graph\n",
    "    \n",
    "    n=len(start_list)\n",
    "    delta_local_cuts=np.zeros(n)\n",
    "    \n",
    "    tabu_list=np.ones(n)*-10000\n",
    "    curr_score=0\n",
    "    for i in range(n):\n",
    "        for j,weight in zip(adj_matrix[start_list[i]:end_list[i]],\n",
    "                  weight_matrix[start_list[i]:end_list[i]]):\n",
    "                \n",
    "            delta_local_cuts[i]+=weight*(2*spins[i]-1)*(2*spins[j]-1)\n",
    "            curr_score+=weight*(spins[i]+spins[j]-2*spins[i]*spins[j])\n",
    "            \n",
    "#     print(delta_local_cuts)\n",
    "\n",
    "    curr_score/=2    \n",
    "    best_score=curr_score\n",
    "\n",
    "    for t in range(max_steps):\n",
    "        arg_gain=np.argsort(-delta_local_cuts)\n",
    "        for v in arg_gain:\n",
    "            if (t-tabu_list[v]> tabu_tenure) or (best_score < curr_score + delta_local_cuts[v]):\n",
    "\n",
    "                tabu_list[v] = t\n",
    "\n",
    "                curr_score+=delta_local_cuts[v]\n",
    "                delta_local_cuts[v]=-delta_local_cuts[v]\n",
    "                \n",
    "                for u,weight in zip(adj_matrix[start_list[v]:end_list[v]],\n",
    "                                     weight_matrix[start_list[v]:end_list[v]]):\n",
    "\n",
    "                    delta_local_cuts[u]+=weight*(2*spins[u]-1)*(2-4*spins[v])\n",
    "\n",
    "                spins[v] = 1-spins[v]\n",
    "\n",
    "                break\n",
    "\n",
    "                \n",
    "        best_score=max(curr_score,best_score)\n",
    "    return best_score,None\n",
    "    \n",
    "    "
   ]
  },
  {
   "cell_type": "code",
   "execution_count": 6,
   "id": "cf435166",
   "metadata": {},
   "outputs": [],
   "source": [
    "# graph_save_loc=f'_graphs/testing/ER_{\"15-20\"}spin_p{0.15}_50graphs.pkl'\n",
    "# graphs=load_graph_set(graph_save_loc)"
   ]
  },
  {
   "cell_type": "code",
   "execution_count": 48,
   "id": "75438143",
   "metadata": {},
   "outputs": [],
   "source": [
    "test_dataset=GraphDataset('data/validation/Uniform Random-3-SAT',ordered=True)"
   ]
  },
  {
   "cell_type": "code",
   "execution_count": 58,
   "id": "fe5dea84",
   "metadata": {},
   "outputs": [
    {
     "name": "stdout",
     "output_type": "stream",
     "text": [
      "Mean Tabu Cut: 5738.54\n"
     ]
    }
   ],
   "source": [
    "tabu_cuts=[]\n",
    "for i in range(len(test_dataset)):\n",
    "#     flatten_graph(graph)\n",
    "    graph=test_dataset.get()\n",
    "    g=flatten_graph(graph)\n",
    "    spins= np.random.randint(2, size=graph.shape[0])\n",
    "#     print(spins)\n",
    "    cut,spins=tabu(g,spins,tabu_tenure=30,max_steps=graph.shape[0]*2)\n",
    "    \n",
    "    tabu_cuts.append(cut)\n",
    "    \n",
    "print('Mean Tabu Cut:',sum(tabu_cuts)/len(tabu_cuts))"
   ]
  },
  {
   "cell_type": "code",
   "execution_count": 59,
   "id": "f8b35c19",
   "metadata": {},
   "outputs": [],
   "source": [
    "mca_cuts=[]\n",
    "sg_cuts=[]\n",
    "for i in range(len(test_dataset)):\n",
    "#     flatten_graph(graph)\n",
    "    graph=test_dataset.get()\n",
    "    g=flatten_graph(graph)\n",
    "    spins= np.random.randint(2, size=graph.shape[0])\n",
    "#     print(spins)\n",
    "    cut,spins=mca(g,spins)\n",
    "    sg_cut,sg_spins=standard_greedy(g)\n",
    "    \n",
    "    mca_cuts.append(cut)\n",
    "    sg_cuts.append(sg_cut)"
   ]
  },
  {
   "cell_type": "code",
   "execution_count": 60,
   "id": "d59516c4",
   "metadata": {},
   "outputs": [
    {
     "data": {
      "text/plain": [
       "5736.5"
      ]
     },
     "execution_count": 60,
     "metadata": {},
     "output_type": "execute_result"
    }
   ],
   "source": [
    "sum(mca_cuts)/len(mca_cuts)"
   ]
  },
  {
   "cell_type": "code",
   "execution_count": 61,
   "id": "35fdfbc2",
   "metadata": {},
   "outputs": [
    {
     "data": {
      "text/plain": [
       "5739.6"
      ]
     },
     "execution_count": 61,
     "metadata": {},
     "output_type": "execute_result"
    }
   ],
   "source": [
    "sum(sg_cuts)/len(mca_cuts)"
   ]
  },
  {
   "cell_type": "code",
   "execution_count": null,
   "id": "e5b1f6fd",
   "metadata": {},
   "outputs": [],
   "source": [
    "_spins=2*spins-1"
   ]
  },
  {
   "cell_type": "code",
   "execution_count": null,
   "id": "9dff4069",
   "metadata": {},
   "outputs": [],
   "source": [
    "(0.25 * np.sum(graph * (1 - np.outer(_spins,_spins))))"
   ]
  },
  {
   "cell_type": "code",
   "execution_count": null,
   "id": "ba01ca3f",
   "metadata": {},
   "outputs": [],
   "source": [
    "mca_cuts"
   ]
  },
  {
   "cell_type": "code",
   "execution_count": null,
   "id": "956640a3",
   "metadata": {},
   "outputs": [],
   "source": [
    "cuts=[]\n",
    "for i in range(len(test_dataset)):\n",
    "#     flatten_graph(graph)\n",
    "    graph=test_dataset.get()\n",
    "    \n",
    "    cut,spins=standard_greedy(flatten_graph(graph))\n",
    "    cuts.append(cut)\n",
    "#     print()\n",
    "    "
   ]
  },
  {
   "cell_type": "code",
   "execution_count": null,
   "id": "71b9f9e1",
   "metadata": {},
   "outputs": [],
   "source": [
    "sum(cuts)/len(cuts)"
   ]
  },
  {
   "cell_type": "code",
   "execution_count": null,
   "id": "00d64cd3",
   "metadata": {},
   "outputs": [],
   "source": [
    "cuts"
   ]
  },
  {
   "cell_type": "code",
   "execution_count": null,
   "id": "e609125a",
   "metadata": {},
   "outputs": [],
   "source": []
  }
 ],
 "metadata": {
  "kernelspec": {
   "display_name": "Python 3 (ipykernel)",
   "language": "python",
   "name": "python3"
  },
  "language_info": {
   "codemirror_mode": {
    "name": "ipython",
    "version": 3
   },
   "file_extension": ".py",
   "mimetype": "text/x-python",
   "name": "python",
   "nbconvert_exporter": "python",
   "pygments_lexer": "ipython3",
   "version": "3.10.12"
  }
 },
 "nbformat": 4,
 "nbformat_minor": 5
}
